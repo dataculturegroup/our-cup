{
 "cells": [
  {
   "cell_type": "markdown",
   "id": "72d0f072-5a56-4344-ad3d-d3be3e4c6244",
   "metadata": {},
   "source": [
    "OurCup Census Data Generation\n",
    "============================="
   ]
  },
  {
   "cell_type": "code",
   "execution_count": 170,
   "id": "04e6b962-fbc9-480f-9dd9-af873f9e33b7",
   "metadata": {},
   "outputs": [],
   "source": [
    "import pandas as pd\n",
    "import json"
   ]
  },
  {
   "cell_type": "markdown",
   "id": "7806def5-c21c-496b-8c91-f8a48a2a93d1",
   "metadata": {},
   "source": [
    "## Build a Table of Census Tract and Zip Codes"
   ]
  },
  {
   "cell_type": "code",
   "execution_count": 148,
   "id": "40ea6ad7-aae0-42d4-9c8a-6a7df1087845",
   "metadata": {},
   "outputs": [],
   "source": [
    "df = pd.read_csv('data/tab20_zcta520_tract20_natl.txt', delimiter=\"|\", dtype={'GEOID_TRACT_20': str, 'GEOID_ZCTA5_20': str})\n",
    "df = df[['GEOID_TRACT_20', 'GEOID_ZCTA5_20']]\n",
    "df = df.rename(columns={'GEOID_TRACT_20': 'tract', 'GEOID_ZCTA5_20': 'zipcode5'})\n",
    "df.to_csv('tract-to-zipcode.csv', index=False)"
   ]
  },
  {
   "cell_type": "code",
   "execution_count": 149,
   "id": "0cabb5a2-fc6e-4660-9859-7849d593456d",
   "metadata": {},
   "outputs": [],
   "source": [
    "tract2zipcode = {}\n",
    "for idx, row in df.iterrows():\n",
    "    tract2zipcode[str(row['tract'])]=row['zipcode5']"
   ]
  },
  {
   "cell_type": "markdown",
   "id": "bd908c9c-00a6-4bc7-b69c-f4b5d828f350",
   "metadata": {},
   "source": [
    "## Figure Out Top Populations by County"
   ]
  },
  {
   "cell_type": "code",
   "execution_count": 150,
   "id": "e133ef28-82bd-489e-98d8-73eeac364621",
   "metadata": {},
   "outputs": [],
   "source": [
    "country2col_df = pd.read_csv(\"data/country-2-census-column.csv\")"
   ]
  },
  {
   "cell_type": "code",
   "execution_count": 151,
   "id": "15cdef3c-8665-4140-8580-770bf914a2dd",
   "metadata": {},
   "outputs": [],
   "source": [
    "census_df = pd.read_csv('data/ACSDT5Y2020.B05006_2022-11-13T170212/ACSDT5Y2020.B05006-Data.csv', low_memory=False)"
   ]
  },
  {
   "cell_type": "code",
   "execution_count": 172,
   "id": "ae237c17-a465-4544-b9ba-ca4c2320d0ef",
   "metadata": {},
   "outputs": [
    {
     "name": "stdout",
     "output_type": "stream",
     "text": [
      "Failed on row 85396, tract  - ''\n"
     ]
    }
   ],
   "source": [
    "pop_data = []\n",
    "for census_idx, census_row in census_df.iterrows():  # census_df.sample(n=1000).iterrows()\n",
    "    if census_idx == 0:\n",
    "        continue\n",
    "    try:\n",
    "        tract_pop_data = {}\n",
    "        tract_pop_data['county'] = census_row['GEO_ID'][9:14]\n",
    "        tract_pop_data['geo_id'] = census_row['GEO_ID'][9:]\n",
    "        tract_pop_data['state_fips'] = census_row['GEO_ID'][9:11]\n",
    "        tract_pop_data['county_fips'] = census_row['GEO_ID'][11:14]\n",
    "        tract_pop_data['tract_fips'] = census_row['GEO_ID'][14:]\n",
    "        tract_pop_data['zipcode5'] = tract2zipcode[tract_pop_data['geo_id']]\n",
    "        for cntry_idx, cntry_row in country2col_df.iterrows():\n",
    "            tract_pop_data[cntry_row['FIFA-alpha3']] = census_row[cntry_row['Census-Column-Name']]\n",
    "        pop_data.append(tract_pop_data)\n",
    "    except Exception as e:\n",
    "        print(\"Failed on row {}, tract {} - {}\".format(census_idx, census_row['GEO_ID'][9:], e))\n",
    "pop_df = pd.DataFrame(pop_data)\n",
    "pop_df.to_csv('tract-populaton-data.csv', index=False)"
   ]
  },
  {
   "cell_type": "code",
   "execution_count": 173,
   "id": "b3f2a8ca-a1c8-4e63-bee3-3e9a02cc0b19",
   "metadata": {},
   "outputs": [],
   "source": [
    "aggregated = []\n",
    "for county in list(pop_df['county']):\n",
    "    county_data = {'fips': county}\n",
    "    this_county_pop_df = pop_df[pop_df['county']==county]\n",
    "    for cntry_idx, cntry_row in country2col_df.iterrows():\n",
    "        county_data[cntry_row['FIFA-alpha3']] = pd.to_numeric(this_county_pop_df[cntry_row['FIFA-alpha3']]).sum()\n",
    "    aggregated.append(county_data)"
   ]
  },
  {
   "cell_type": "code",
   "execution_count": 174,
   "id": "b0c68830-7485-429d-8318-6339892c88d2",
   "metadata": {},
   "outputs": [],
   "source": [
    "aggregated_pop_df = pd.DataFrame(aggregated)\n",
    "aggregated_pop_df.to_csv('county-populaton-data.csv', index=False)"
   ]
  },
  {
   "cell_type": "markdown",
   "id": "11ea57e5-5b7a-4d01-bea5-5319bea21ce3",
   "metadata": {},
   "source": [
    "## Pre-compute Rankings for each County"
   ]
  },
  {
   "cell_type": "code",
   "execution_count": 177,
   "id": "e15eb7bb-934d-49a0-aaf6-29dce1e28d7a",
   "metadata": {},
   "outputs": [],
   "source": [
    "county_rankings = {}\n",
    "for county in list(pop_df['county']):\n",
    "    this_county_ranks = []\n",
    "    county_data = aggregated_pop_df[pop_df['county']==county].iloc[0]\n",
    "    for cntry_idx, cntry_row in country2col_df.iterrows():\n",
    "        pop = county_data[cntry_row['FIFA-alpha3']]\n",
    "        if pop > 0:\n",
    "            this_county_ranks.append({'county':county, 'team':cntry_row['FIFA-alpha3'], 'pop': int(pop)})\n",
    "    this_county_ranks.sort(key=lambda x: x['pop'], reverse=True)\n",
    "    county_rankings[county] = [r['team'] for r in this_county_ranks][:3]"
   ]
  },
  {
   "cell_type": "code",
   "execution_count": 178,
   "id": "fa365aff-e5ac-447c-91fe-c8cec011a207",
   "metadata": {},
   "outputs": [],
   "source": [
    "with open('county-recs.json', 'w') as f:\n",
    "    json.dump(county_rankings, f)"
   ]
  },
  {
   "cell_type": "code",
   "execution_count": null,
   "id": "4d76c0a0-c50b-48c8-9a24-eb9bfe4996c3",
   "metadata": {},
   "outputs": [],
   "source": []
  }
 ],
 "metadata": {
  "kernelspec": {
   "display_name": "Python 3 (ipykernel)",
   "language": "python",
   "name": "python3"
  },
  "language_info": {
   "codemirror_mode": {
    "name": "ipython",
    "version": 3
   },
   "file_extension": ".py",
   "mimetype": "text/x-python",
   "name": "python",
   "nbconvert_exporter": "python",
   "pygments_lexer": "ipython3",
   "version": "3.10.1"
  }
 },
 "nbformat": 4,
 "nbformat_minor": 5
}
