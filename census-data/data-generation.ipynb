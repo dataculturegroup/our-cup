{
 "cells": [
  {
   "cell_type": "markdown",
   "id": "72d0f072-5a56-4344-ad3d-d3be3e4c6244",
   "metadata": {},
   "source": [
    "OurCup Census Data Generation\n",
    "============================="
   ]
  },
  {
   "cell_type": "markdown",
   "id": "ca37207a-1d8c-44a4-989e-d74fb8a971c7",
   "metadata": {},
   "source": [
    "Use this notebook to generate data on how many foreign-born residents from each country playing in the world cup live in each country in the US. This uses ACS (American Community Survey) data (05006 PLACE OF BIRTH FOR THE FOREIGN-BORN POPULATION IN THE UNITED STATES). \n",
    "1. Check for updated ACS 5-year estimate data (comes out every year), download it and change the file name below as indicated. You need to find that table and then go to \"Geos\" and select \"Tracts -> All Tracts\" to download the table we'll need here.\n",
    "2. Update the \"country-2-census-column.csv\" file based on the teams that qualified for the World Cup"
   ]
  },
  {
   "cell_type": "code",
   "execution_count": 13,
   "id": "04e6b962-fbc9-480f-9dd9-af873f9e33b7",
   "metadata": {},
   "outputs": [],
   "source": [
    "import pandas as pd\n",
    "import json"
   ]
  },
  {
   "cell_type": "markdown",
   "id": "bd908c9c-00a6-4bc7-b69c-f4b5d828f350",
   "metadata": {},
   "source": [
    "## Figure Out Top Populations by County"
   ]
  },
  {
   "cell_type": "code",
   "execution_count": 17,
   "id": "e133ef28-82bd-489e-98d8-73eeac364621",
   "metadata": {},
   "outputs": [],
   "source": [
    "# Load up the manual list of countries and columns in the census data they map to\n",
    "# this requires making some editorial decisions\n",
    "country2col_df = pd.read_csv(\"data/country-2-census-column.csv\")"
   ]
  },
  {
   "cell_type": "code",
   "execution_count": 18,
   "id": "15cdef3c-8665-4140-8580-770bf914a2dd",
   "metadata": {},
   "outputs": [],
   "source": [
    "# Load up the ACS place of birth data for foreign-born populations\n",
    "# (update this file name with the latest ACS B05006 CSV data file)\n",
    "census_df = pd.read_csv('data/ACSDT5Y2022.B05006_2024-12-05T155749/ACSDT5Y2022.B05006-Data.csv', low_memory=False)"
   ]
  },
  {
   "cell_type": "code",
   "execution_count": 20,
   "id": "ae237c17-a465-4544-b9ba-ca4c2320d0ef",
   "metadata": {},
   "outputs": [],
   "source": [
    "# find the country population for every county (this can take a few minutes)\n",
    "pop_data = []\n",
    "for census_idx, census_row in census_df.iterrows(): # census_df.sample(n=10).iterrows():\n",
    "    if census_idx == 0:\n",
    "        continue\n",
    "    try:\n",
    "        tract_pop_data = {}\n",
    "        tract_pop_data['county'] = census_row['GEO_ID'][9:14]\n",
    "        tract_pop_data['geo_id'] = census_row['GEO_ID'][9:]\n",
    "        tract_pop_data['state_fips'] = census_row['GEO_ID'][9:11]\n",
    "        tract_pop_data['county_fips'] = census_row['GEO_ID'][11:14]\n",
    "        tract_pop_data['tract_fips'] = census_row['GEO_ID'][14:]\n",
    "        for cntry_idx, cntry_row in country2col_df.iterrows():\n",
    "            tract_pop_data[cntry_row['FIFA-alpha3']] = census_row[cntry_row['Census-Column-Name']]\n",
    "        pop_data.append(tract_pop_data)\n",
    "    except Exception as e:\n",
    "        print(\"Failed on row {}, tract {} - {}\".format(census_idx, census_row['GEO_ID'][9:], e))\n",
    "pop_df = pd.DataFrame(pop_data)\n",
    "pop_df.to_csv('tract-populaton-data.csv', index=False)"
   ]
  },
  {
   "cell_type": "code",
   "execution_count": 21,
   "id": "b3f2a8ca-a1c8-4e63-bee3-3e9a02cc0b19",
   "metadata": {},
   "outputs": [],
   "source": [
    "aggregated = []\n",
    "for county in list(set(pop_df['county'])):\n",
    "    county_data = {'fips': county}\n",
    "    this_county_pop_df = pop_df[pop_df['county']==county]\n",
    "    for cntry_idx, cntry_row in country2col_df.iterrows():\n",
    "        county_data[cntry_row['FIFA-alpha3']] = pd.to_numeric(this_county_pop_df[cntry_row['FIFA-alpha3']]).sum()\n",
    "    aggregated.append(county_data)"
   ]
  },
  {
   "cell_type": "code",
   "execution_count": 22,
   "id": "b0c68830-7485-429d-8318-6339892c88d2",
   "metadata": {},
   "outputs": [],
   "source": [
    "aggregated_pop_df = pd.DataFrame(aggregated)\n",
    "aggregated_pop_df.to_csv('county-populaton-data.csv', index=False)"
   ]
  },
  {
   "cell_type": "code",
   "execution_count": 23,
   "id": "240bed51-b1e5-47fe-9940-df2e630c0a34",
   "metadata": {},
   "outputs": [
    {
     "data": {
      "text/html": [
       "<div>\n",
       "<style scoped>\n",
       "    .dataframe tbody tr th:only-of-type {\n",
       "        vertical-align: middle;\n",
       "    }\n",
       "\n",
       "    .dataframe tbody tr th {\n",
       "        vertical-align: top;\n",
       "    }\n",
       "\n",
       "    .dataframe thead th {\n",
       "        text-align: right;\n",
       "    }\n",
       "</style>\n",
       "<table border=\"1\" class=\"dataframe\">\n",
       "  <thead>\n",
       "    <tr style=\"text-align: right;\">\n",
       "      <th></th>\n",
       "      <th>fips</th>\n",
       "      <th>ARG</th>\n",
       "      <th>AUS</th>\n",
       "      <th>BRA</th>\n",
       "      <th>CAN</th>\n",
       "      <th>CHN</th>\n",
       "      <th>COL</th>\n",
       "      <th>CRC</th>\n",
       "      <th>DEN</th>\n",
       "      <th>ENG</th>\n",
       "      <th>...</th>\n",
       "      <th>PAN</th>\n",
       "      <th>PHL</th>\n",
       "      <th>POR</th>\n",
       "      <th>IRL</th>\n",
       "      <th>ZAF</th>\n",
       "      <th>ESP</th>\n",
       "      <th>SWE</th>\n",
       "      <th>SUI</th>\n",
       "      <th>VNM</th>\n",
       "      <th>ZMB</th>\n",
       "    </tr>\n",
       "  </thead>\n",
       "  <tbody>\n",
       "    <tr>\n",
       "      <th>2067</th>\n",
       "      <td>13271</td>\n",
       "      <td>17.0</td>\n",
       "      <td>0.0</td>\n",
       "      <td>0.0</td>\n",
       "      <td>0.0</td>\n",
       "      <td>0.0</td>\n",
       "      <td>80.0</td>\n",
       "      <td>0.0</td>\n",
       "      <td>0.0</td>\n",
       "      <td>0.0</td>\n",
       "      <td>...</td>\n",
       "      <td>0.0</td>\n",
       "      <td>0.0</td>\n",
       "      <td>0.0</td>\n",
       "      <td>0.0</td>\n",
       "      <td>12.0</td>\n",
       "      <td>0.0</td>\n",
       "      <td>0.0</td>\n",
       "      <td>0.0</td>\n",
       "      <td>8.0</td>\n",
       "      <td>70.0</td>\n",
       "    </tr>\n",
       "  </tbody>\n",
       "</table>\n",
       "<p>1 rows × 32 columns</p>\n",
       "</div>"
      ],
      "text/plain": [
       "       fips   ARG  AUS  BRA  CAN  CHN   COL  CRC  DEN  ENG  ...  PAN  PHL  \\\n",
       "2067  13271  17.0  0.0  0.0  0.0  0.0  80.0  0.0  0.0  0.0  ...  0.0  0.0   \n",
       "\n",
       "      POR  IRL   ZAF  ESP  SWE  SUI  VNM   ZMB  \n",
       "2067  0.0  0.0  12.0  0.0  0.0  0.0  8.0  70.0  \n",
       "\n",
       "[1 rows x 32 columns]"
      ]
     },
     "execution_count": 23,
     "metadata": {},
     "output_type": "execute_result"
    }
   ],
   "source": [
    "aggregated_pop_df[aggregated_pop_df['fips']=='13271']"
   ]
  },
  {
   "cell_type": "markdown",
   "id": "11ea57e5-5b7a-4d01-bea5-5319bea21ce3",
   "metadata": {},
   "source": [
    "## Pre-compute Rankings for each County"
   ]
  },
  {
   "cell_type": "code",
   "execution_count": 24,
   "id": "e15eb7bb-934d-49a0-aaf6-29dce1e28d7a",
   "metadata": {},
   "outputs": [
    {
     "name": "stderr",
     "output_type": "stream",
     "text": [
      "/var/folders/v0/cxm2b8rx6z753szld5jb6k180000gp/T/ipykernel_48468/2048141002.py:8: FutureWarning: Calling int on a single element Series is deprecated and will raise a TypeError in the future. Use int(ser.iloc[0]) instead\n",
      "  one_row = {'county':county, 'team':cntry_row['FIFA-alpha3'], 'pop': int(pop)}\n",
      "/var/folders/v0/cxm2b8rx6z753szld5jb6k180000gp/T/ipykernel_48468/2048141002.py:10: FutureWarning: Calling int on a single element Series is deprecated and will raise a TypeError in the future. Use int(ser.iloc[0]) instead\n",
      "  if int(pop) > 0:\n"
     ]
    }
   ],
   "source": [
    "county_rankings = {}\n",
    "all_ranks = []\n",
    "for county in list(set(pop_df['county'])):\n",
    "    this_county_ranks = []\n",
    "    county_data = aggregated_pop_df[aggregated_pop_df['fips']==str(county)]\n",
    "    for cntry_idx, cntry_row in country2col_df.iterrows():\n",
    "        pop = county_data[cntry_row['FIFA-alpha3']]\n",
    "        one_row = {'county':county, 'team':cntry_row['FIFA-alpha3'], 'pop': int(pop)}\n",
    "        all_ranks.append(one_row)\n",
    "        if int(pop) > 0:\n",
    "            this_county_ranks.append(one_row)\n",
    "    this_county_ranks.sort(key=lambda x: x['pop'], reverse=True)\n",
    "    county_rankings[county] = [r['team'] for r in this_county_ranks][:3]\n",
    "county_pop_df = pd.DataFrame(all_ranks)\n",
    "county_pop_df.to_csv('county-populaton-data-tidy.csv', index=False)\n"
   ]
  },
  {
   "cell_type": "code",
   "execution_count": 25,
   "id": "fa365aff-e5ac-447c-91fe-c8cec011a207",
   "metadata": {},
   "outputs": [],
   "source": [
    "with open('county-recs.json', 'w') as f:\n",
    "    json.dump(county_rankings, f)"
   ]
  },
  {
   "cell_type": "markdown",
   "id": "d1de4881-cde6-4fc5-8875-ae62cb972ee9",
   "metadata": {},
   "source": [
    "Now copy and past that `county-recs.json` data into the `data/recommendations.json` file"
   ]
  },
  {
   "cell_type": "code",
   "execution_count": null,
   "id": "ab364b0a-fd12-4de8-be49-deccf77354b1",
   "metadata": {},
   "outputs": [],
   "source": []
  }
 ],
 "metadata": {
  "kernelspec": {
   "display_name": "Python 3 (ipykernel)",
   "language": "python",
   "name": "python3"
  },
  "language_info": {
   "codemirror_mode": {
    "name": "ipython",
    "version": 3
   },
   "file_extension": ".py",
   "mimetype": "text/x-python",
   "name": "python",
   "nbconvert_exporter": "python",
   "pygments_lexer": "ipython3",
   "version": "3.11.7"
  }
 },
 "nbformat": 4,
 "nbformat_minor": 5
}
